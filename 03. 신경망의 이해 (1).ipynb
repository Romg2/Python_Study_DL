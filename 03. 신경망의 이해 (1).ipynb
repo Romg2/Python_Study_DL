{
 "cells": [
  {
   "cell_type": "markdown",
   "id": "d0babef4",
   "metadata": {},
   "source": [
    "**기본 세팅**"
   ]
  },
  {
   "cell_type": "code",
   "execution_count": 1,
   "id": "998f634f",
   "metadata": {},
   "outputs": [],
   "source": [
    "import numpy as np\n",
    "import pandas as pd\n",
    "\n",
    "import matplotlib as mpl\n",
    "import matplotlib.pyplot as plt\n",
    "import seaborn as sns\n",
    "\n",
    "import warnings"
   ]
  },
  {
   "cell_type": "code",
   "execution_count": 2,
   "id": "4e984bd7",
   "metadata": {},
   "outputs": [],
   "source": [
    "%matplotlib inline\n",
    "%config InlineBackend.figure_format = 'retina'\n",
    "\n",
    "mpl.rc('font', family='NanumGothic') # 폰트 설정\n",
    "mpl.rc('axes', unicode_minus=False) # 유니코드에서 음수 부호 설정\n",
    "\n",
    "# 차트 스타일 설정\n",
    "sns.set(font=\"NanumGothic\", rc={\"axes.unicode_minus\":False}, style='darkgrid')\n",
    "plt.rc(\"figure\", figsize=(10,8))\n",
    "\n",
    "warnings.filterwarnings(\"ignore\")"
   ]
  },
  {
   "cell_type": "markdown",
   "id": "4fa7484a",
   "metadata": {},
   "source": [
    "---"
   ]
  },
  {
   "cell_type": "markdown",
   "id": "2bb13f02",
   "metadata": {},
   "source": [
    "# 6. 퍼셉트론"
   ]
  },
  {
   "cell_type": "markdown",
   "id": "07e1d24a",
   "metadata": {},
   "source": [
    "퍼셉트론은 신경망을 이루는 가장 중요한 기본 단위이다.\n",
    "\n",
    "인간의 뇌에 존재하는 뉴런의 역할로 입력 값과 활성화 함수를 사용해 출력 값을 다음으로 넘긴다.\n",
    "\n",
    "![perceptron](https://thebook.io/img/080228/103.jpg)\n",
    "\n",
    "출처: <https://thebook.io/080228/part03/ch06-01/>"
   ]
  },
  {
   "cell_type": "markdown",
   "id": "c90fd23e",
   "metadata": {},
   "source": [
    "## 6.1 퍼셉트론 과정"
   ]
  },
  {
   "cell_type": "markdown",
   "id": "aebe5f3c",
   "metadata": {},
   "source": [
    "입력 값 $x$에 가중치(Weight) $w$를 적용한 후 더한다. $\\rightarrow \\sum_{i} w_{i}x_{i}$\n",
    "\n",
    "\n",
    "편향(bias) $b$를 더해 가중합을 계산한다. $\\rightarrow \\sum_{i} w_{i}x_{i} + b$\n",
    "\n",
    "\n",
    "가중합의 결과를 놓고 1 또는 0을 출력해서 다음으로 전달한다.\n",
    "\n",
    "\n",
    "1 또는 0을 출력하는 판단은 활성화 함수 $\\sigma$로 결정한다. $\\rightarrow \\sigma(\\sum_{i} w_{i}x_{i} + b)$\n",
    "\n",
    "\n",
    "대표적인 활성화 함수로는 시그모이드 함수가 있다."
   ]
  },
  {
   "cell_type": "markdown",
   "id": "55b13750",
   "metadata": {},
   "source": [
    "## 6.2 게이트"
   ]
  },
  {
   "cell_type": "markdown",
   "id": "da73188f",
   "metadata": {},
   "source": [
    "컴퓨터는 두 가지의 디지털 값, 0과 1을 입력해 하나의 값을 출력하는 회로가 모여 만들어진다.\n",
    "\n",
    "이 회로를 게이트(Gate)라고 한다.\n",
    "\n",
    "게이트의 대표적인 유형은 다음과 같다.\n",
    "\n",
    "- AND: 두 입력이 모두 1일 때 1을 출력하는 게이트\n",
    "\n",
    "\n",
    "- OR: 두 입력 중 하나라도 1이면 1을 출력하는 게이트\n",
    "\n",
    "\n",
    "- NOT: 입력이 1이면 0, 입력이 0이면 1을 출력하는 게이트\n",
    "\n",
    "\n",
    "- NAND: AND와 반대로 두 입력이 모두 1일 때 0을 출력하는 게이트\n",
    "\n",
    "\n",
    "- NOR: OR과 반대로 두 입력 중 하나라도 1이면 0을 출력하는 게이트\n",
    "\n",
    "![gate](http://www.schoolphysics.co.uk/age14-16/Electronics/text/Logic_gates/images/1.png)\n",
    "\n",
    "출처: <http://www.schoolphysics.co.uk/age14-16/Electronics/text/Logic_gates/index.html>"
   ]
  },
  {
   "cell_type": "markdown",
   "id": "a661c03b",
   "metadata": {},
   "source": [
    "## 6.3 XOR 문제"
   ]
  },
  {
   "attachments": {},
   "cell_type": "markdown",
   "id": "8a45c7dc",
   "metadata": {},
   "source": [
    "앞서 확인한 게이트들은 모두 퍼셉트론으로 구현 가능하다.\n",
    "\n",
    "하지만 XOR게이트는 퍼셉트론으로 해결할 수 없다.\n",
    "\n",
    "![XOR](https://thebook.io/img/080228/106.jpg)\n",
    "\n",
    "출처: <https://thebook.io/080228/part03/ch06/03-01/>"
   ]
  },
  {
   "cell_type": "markdown",
   "id": "432b5cc2",
   "metadata": {},
   "source": [
    "위 그림에서 AND 게이트와 OR 게이트는 직선 하나로 흰점(0)과 검은점(1) 구분이 가능하다.\n",
    "\n",
    "반면 XOR 게이트는 어떤 직선이던 하나로는 점을 구분할 수 없다.\n",
    "\n",
    "- XOR: 서로 다른 두 값이 입력되면 1을 반환하는 게이트"
   ]
  },
  {
   "cell_type": "markdown",
   "id": "0a256081",
   "metadata": {},
   "source": [
    "# 7. 다층 퍼셉트론"
   ]
  },
  {
   "cell_type": "markdown",
   "id": "ca0b9aac",
   "metadata": {},
   "source": [
    "다음 그림을 보면 종이를 반으로 접었을 때 직선 하나로 점을 구분할 수 있다.\n",
    "\n",
    "즉, 좌표 평면 자체에 변화를 주면 XOR 문제를 해결할 수 있다.\n",
    "\n",
    "![MLP](https://thebook.io/img/080228/108_1.jpg)\n",
    "\n",
    "출처: <https://thebook.io/080228/part03/ch07-01/>"
   ]
  },
  {
   "cell_type": "markdown",
   "id": "ba5edc38",
   "metadata": {},
   "source": [
    "평면에 변화를 주면서 직선까지 찾으려면 두 개의 퍼셉트론을 한번에 계산할 수 있어야 하며,\n",
    "\n",
    "이를 가능하게 하기 위해 숨어있는 층, 은닉층(hidden layer)를 만든다.\n",
    "\n",
    "입력층에서 출력층으로 가기 전에 은닉층에서 평면을 왜곡하는 것이다."
   ]
  },
  {
   "cell_type": "markdown",
   "id": "2b4d0989",
   "metadata": {},
   "source": [
    "## 7.1 다층 퍼셉트론의 설계"
   ]
  },
  {
   "cell_type": "markdown",
   "id": "048e9f04",
   "metadata": {},
   "source": [
    "다음 그림은 은닉층을 포함한 다층 퍼셉트론 구조이다.\n",
    "\n",
    "![MLP2](https://thebook.io/img/080228/109.jpg)\n",
    "\n",
    "출처: <https://thebook.io/080228/part03/ch07/01/>"
   ]
  },
  {
   "cell_type": "markdown",
   "id": "abaf491e",
   "metadata": {},
   "source": [
    "다층 퍼셉트론의 과정을 세분화해서 살펴보자.\n",
    "\n",
    "(교재에서 활성화 함수($\\sigma$)는 두번 모두 시그모이드 함수를 사용한다.)\n",
    "\n",
    "**[입력층]**\n",
    "\n",
    "값에 가중치($w$)와 바이어스($b$)를 적용 후 활성화 함수($\\sigma$)를 적용해 은닉층에 보낸다.\n",
    "\n",
    "- $x_{1}$\n",
    "\n",
    "\n",
    "- $x_{2}$\n",
    "\n",
    "\n",
    "\n",
    "**[은닉층]**\n",
    "\n",
    "중간 정거장으로 노드(node)라고 하며 은닉층의 값은 다시 같은 과정으로 출력층에 전달된다.\n",
    "\n",
    "- $n_{1} = \\sigma (x_{1} w_{11} + x_{2} w_{21} + b_{1})$\n",
    "\n",
    "\n",
    "- $n_{2} = \\sigma (x_{1} w_{12} + x_{2} w_{22} + b_{2})$\n",
    "\n",
    "**[출력층]**\n",
    "\n",
    "최종 출력값\n",
    "\n",
    "- $y_{out} = \\sigma (n_{1} w_{31} + n_{2} w_{32} + b_{3})$"
   ]
  },
  {
   "cell_type": "markdown",
   "id": "fbf9d8de",
   "metadata": {},
   "source": [
    "## 7.2 XOR 해결"
   ]
  },
  {
   "cell_type": "markdown",
   "id": "b539349d",
   "metadata": {},
   "source": [
    "이제 다층 퍼셉트론을 이용해서 XOR 문제를 해결해보자.\n",
    "\n",
    "앞서 확인한 구조에 따라 다음과 같은 가중치와 바이어스에 대한 배열이 필요하다.\n",
    "\n",
    "$$\n",
    "W(1) =\n",
    "\\begin{bmatrix}\n",
    "w_{11} & w_{12} \\\\\n",
    "w_{21} & w_{22} \\\\\n",
    "\\end{bmatrix}\n",
    ", \\quad \n",
    "B(1) =\n",
    "\\begin{bmatrix}\n",
    "b_{1} \\\\ b_{2}\n",
    "\\end{bmatrix}\n",
    "$$\n",
    "\n",
    "$$\n",
    "W(2) =\n",
    "\\begin{bmatrix}\n",
    "w_{31} \\\\ w_{32}\n",
    "\\end{bmatrix}\n",
    ", \\quad \n",
    "B(2) =\n",
    "\\begin{bmatrix}\n",
    "b_{3}\n",
    "\\end{bmatrix}\n",
    "$$"
   ]
  },
  {
   "cell_type": "markdown",
   "id": "921d301c",
   "metadata": {},
   "source": [
    "다만 XOR 문제를 해결하는 가중치와 바이어스 조합은 무수히 많다.\n",
    "\n",
    "여기선 임의로 한 조합을 선택해서 실습할 것이다."
   ]
  },
  {
   "cell_type": "code",
   "execution_count": 3,
   "id": "a2fbb70b",
   "metadata": {},
   "outputs": [],
   "source": [
    "# 가중치, 바이어스\n",
    "W_1 = np.array([[-2,2],\n",
    "                [-2,2]])\n",
    "W_2 = np.array([1,1])\n",
    "\n",
    "B_1 = np.array([3,-1])\n",
    "B_2 = np.array(-1)"
   ]
  },
  {
   "cell_type": "markdown",
   "id": "ffe4e999",
   "metadata": {},
   "source": [
    "- 가중치와 바이어스는 임의로 한 조합을 선택해서 설정하였다."
   ]
  },
  {
   "cell_type": "code",
   "execution_count": 4,
   "id": "fa1c2b12",
   "metadata": {},
   "outputs": [],
   "source": [
    "# 퍼셉트론\n",
    "def MLP(x, w, b):\n",
    "    y = np.sum(w*x) + b\n",
    "    \n",
    "    if y <= 0:\n",
    "        return 0\n",
    "    else:\n",
    "        return 1"
   ]
  },
  {
   "cell_type": "markdown",
   "id": "8418dec4",
   "metadata": {},
   "source": [
    "- 퍼셉트론 함수를 설정하였다.\n",
    "\n",
    "\n",
    "- 가중합이 0보다 작거나 같으면 0, 그렇지 않으면 1로 출력한다.\n",
    "\n",
    "\n",
    "- 즉, 활성화 함수는 여기선 항등함수를 사용한 듯 하며 임계값을 0으로 설정하였다."
   ]
  },
  {
   "cell_type": "code",
   "execution_count": 5,
   "id": "c30f10b0",
   "metadata": {},
   "outputs": [
    {
     "name": "stdout",
     "output_type": "stream",
     "text": [
      "입력 값: (0, 0) 출력 값: 1\n",
      "입력 값: (1, 0) 출력 값: 1\n",
      "입력 값: (0, 1) 출력 값: 1\n",
      "입력 값: (1, 1) 출력 값: 0\n"
     ]
    }
   ],
   "source": [
    "# NAND 게이트 (은닉층 첫 번째 값 생성하는 가중치, 바이어스 적용)\n",
    "def NAND(x1,x2):\n",
    "    n1 = MLP(np.array([x1,x2]), W_1[:,0], B_1[0])\n",
    "    return n1\n",
    "\n",
    "# 출력 값 확인\n",
    "for x in [(0, 0), (1, 0), (0, 1), (1, 1)]:\n",
    "    y = NAND(x[0], x[1])\n",
    "    print(f\"입력 값: {x} 출력 값: {y}\")"
   ]
  },
  {
   "cell_type": "markdown",
   "id": "324dd47a",
   "metadata": {},
   "source": [
    "- 가중합에 퍼셉트론 함수를 적용하여 NAND 게이트 결과가 출력되었다.\n",
    "\n",
    "\n",
    "- 즉, 은닉층의 $n_{1}$은 NAND 게이트에 따른 결과를 사용한다."
   ]
  },
  {
   "cell_type": "code",
   "execution_count": 6,
   "id": "2c11d426",
   "metadata": {},
   "outputs": [
    {
     "name": "stdout",
     "output_type": "stream",
     "text": [
      "입력 값: (0, 0) 출력 값: 0\n",
      "입력 값: (1, 0) 출력 값: 1\n",
      "입력 값: (0, 1) 출력 값: 1\n",
      "입력 값: (1, 1) 출력 값: 1\n"
     ]
    }
   ],
   "source": [
    "# OR 게이트 (은닉층 두 번째 값 생성하는 가중치, 바이어스 적용)\n",
    "def OR(x1,x2):\n",
    "    n2 = MLP(np.array([x1,x2]), W_1[:,1], B_1[1])\n",
    "    return n2\n",
    "\n",
    "# 출력 값 확인\n",
    "for x in [(0, 0), (1, 0), (0, 1), (1, 1)]:\n",
    "    y = OR(x[0], x[1])\n",
    "    print(f\"입력 값: {x} 출력 값: {y}\")"
   ]
  },
  {
   "cell_type": "markdown",
   "id": "f82a825b",
   "metadata": {},
   "source": [
    "- 가중합에 퍼셉트론 함수를 적용하니 OR 게이트 결과가 출력되었다.\n",
    "\n",
    "\n",
    "- 즉, 은닉층의 $n_{2}$는 OR 게이트에 따른 결과를 사용한다."
   ]
  },
  {
   "cell_type": "code",
   "execution_count": 7,
   "id": "1ee4ddcf",
   "metadata": {},
   "outputs": [
    {
     "name": "stdout",
     "output_type": "stream",
     "text": [
      "입력 값: (0, 0) 출력 값: 0\n",
      "입력 값: (1, 0) 출력 값: 0\n",
      "입력 값: (0, 1) 출력 값: 0\n",
      "입력 값: (1, 1) 출력 값: 1\n"
     ]
    }
   ],
   "source": [
    "# AND 게이트 (출력 값을 생성하는 가중치, 바이어스 적용)\n",
    "def AND(x1,x2):\n",
    "    y_out = MLP(np.array([x1,x2]), W_2, B_2)\n",
    "    return y_out\n",
    "\n",
    "# 출력 값 확인\n",
    "for x in [(0, 0), (1, 0), (0, 1), (1, 1)]:\n",
    "    y = AND(x[0], x[1])\n",
    "    print(f\"입력 값: {x} 출력 값: {y}\")"
   ]
  },
  {
   "cell_type": "markdown",
   "id": "bf1a6e4a",
   "metadata": {},
   "source": [
    "- 출력층의 $y_{out}$는 AND 게이트에 따른 결과를 사용한다."
   ]
  },
  {
   "cell_type": "code",
   "execution_count": 8,
   "id": "8ad4ba28",
   "metadata": {},
   "outputs": [
    {
     "name": "stdout",
     "output_type": "stream",
     "text": [
      "입력 값: (0, 0) 출력 값: 0\n",
      "입력 값: (1, 0) 출력 값: 1\n",
      "입력 값: (0, 1) 출력 값: 1\n",
      "입력 값: (1, 1) 출력 값: 0\n"
     ]
    }
   ],
   "source": [
    "# XOR 게이트\n",
    "def XOR(x1,x2):\n",
    "    return AND(NAND(x1,x2), OR(x1,x2))\n",
    "\n",
    "# 출력 값 확인\n",
    "for x in [(0, 0), (1, 0), (0, 1), (1, 1)]:\n",
    "    y = XOR(x[0], x[1])\n",
    "    print(f\"입력 값: {x} 출력 값: {y}\")"
   ]
  },
  {
   "cell_type": "markdown",
   "id": "d8f7d179",
   "metadata": {},
   "source": [
    "- 서로 다른 두 값이 입력된 경우에만 1이 출력됨을 알 수 있다.\n",
    "\n",
    "\n",
    "- 즉, XOR 게이트는 NAND와 OR 게이트의 결과에 AND 게이트를 적용하여 해결 가능하다."
   ]
  }
 ],
 "metadata": {
  "kernelspec": {
   "display_name": "Python 3 (ipykernel)",
   "language": "python",
   "name": "python3"
  },
  "language_info": {
   "codemirror_mode": {
    "name": "ipython",
    "version": 3
   },
   "file_extension": ".py",
   "mimetype": "text/x-python",
   "name": "python",
   "nbconvert_exporter": "python",
   "pygments_lexer": "ipython3",
   "version": "3.7.10"
  },
  "toc": {
   "base_numbering": 1,
   "nav_menu": {},
   "number_sections": false,
   "sideBar": true,
   "skip_h1_title": false,
   "title_cell": "Table of Contents",
   "title_sidebar": "Contents",
   "toc_cell": false,
   "toc_position": {
    "height": "calc(100% - 180px)",
    "left": "10px",
    "top": "150px",
    "width": "310.417px"
   },
   "toc_section_display": true,
   "toc_window_display": true
  }
 },
 "nbformat": 4,
 "nbformat_minor": 5
}
