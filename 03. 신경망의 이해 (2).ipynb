{
 "cells": [
  {
   "cell_type": "markdown",
   "id": "d0babef4",
   "metadata": {},
   "source": [
    "**기본 세팅**"
   ]
  },
  {
   "cell_type": "code",
   "execution_count": 1,
   "id": "998f634f",
   "metadata": {},
   "outputs": [],
   "source": [
    "import numpy as np\n",
    "import pandas as pd\n",
    "\n",
    "import matplotlib as mpl\n",
    "import matplotlib.pyplot as plt\n",
    "import seaborn as sns\n",
    "\n",
    "import warnings"
   ]
  },
  {
   "cell_type": "code",
   "execution_count": 2,
   "id": "4e984bd7",
   "metadata": {},
   "outputs": [],
   "source": [
    "%matplotlib inline\n",
    "%config InlineBackend.figure_format = 'retina'\n",
    "\n",
    "mpl.rc('font', family='NanumGothic') # 폰트 설정\n",
    "mpl.rc('axes', unicode_minus=False) # 유니코드에서 음수 부호 설정\n",
    "\n",
    "# 차트 스타일 설정\n",
    "sns.set(font=\"NanumGothic\", rc={\"axes.unicode_minus\":False}, style='darkgrid')\n",
    "plt.rc(\"figure\", figsize=(10,8))\n",
    "\n",
    "warnings.filterwarnings(\"ignore\")"
   ]
  },
  {
   "cell_type": "markdown",
   "id": "4fa7484a",
   "metadata": {},
   "source": [
    "---"
   ]
  },
  {
   "cell_type": "markdown",
   "id": "2bb13f02",
   "metadata": {},
   "source": [
    "# 8. 오차 역전파"
   ]
  },
  {
   "cell_type": "markdown",
   "id": "07e1d24a",
   "metadata": {},
   "source": [
    "앞서 [퍼셉트론 포스팅](https://romg2.github.io/dl_all/03-%EB%AA%A8%EB%91%90%EC%9D%98-%EB%94%A5%EB%9F%AC%EB%8B%9D-03.-%EC%8B%A0%EA%B2%BD%EB%A7%9D%EC%9D%98-%EC%9D%B4%ED%95%B4-(1)/)에서 단일 퍼셉트론으로 해결되지 않던 문제를 신경망(다층 퍼셉트론)으로 해결하였다.\n",
    "\n",
    "다만 이때 XOR 문제를 해결하면서 이미 가중치와 바이어스에 대한 정답을 알고 코드를 구현했었다.\n",
    "\n",
    "실제에선 입력 값과 출력 값만 알고 있을 때 이를 만족하는 가중치와 바이어스는 경사하강법을 이용해서 구한다."
   ]
  },
  {
   "cell_type": "markdown",
   "id": "28383251",
   "metadata": {},
   "source": [
    "오차 역전파 과정은 다음과 같다.\n",
    "\n",
    "1. 임의의 초기 가중치($W$)를 준 뒤 결과($y_{out}$)를 계산한다.\n",
    "\n",
    "\n",
    "2. 계산 결과와 우리가 원하는 값 사이의 오차를 구한다.\n",
    "\n",
    "\n",
    "3. 경사 하강법을 이용해 바로 앞 가중치를 오차가 작아지는 방향으로 업데이트한다.\n",
    "\n",
    "\n",
    "4. 위 과정을 더 이상 오차가 줄어들지 않을 때까지 반복한다.\n",
    "\n",
    "![perceptron](https://thebook.io/img/080228/117_2.jpg)\n",
    "\n",
    "출처: <https://thebook.io/080228/part03/ch08/01-01/>"
   ]
  },
  {
   "cell_type": "markdown",
   "id": "3b789030",
   "metadata": {},
   "source": [
    "가중치와 바이어스의 최적화 과정이 출력층에서부터 시작해 앞으로 진행된다.\n",
    "\n",
    "이로 인해 다층 퍼셉트론에서의 최적화 과정을 오차 역전파라고 부른다."
   ]
  },
  {
   "cell_type": "markdown",
   "id": "c90fd23e",
   "metadata": {},
   "source": [
    "## 8.1 오차 역전파 계산법"
   ]
  },
  {
   "cell_type": "markdown",
   "id": "aebe5f3c",
   "metadata": {},
   "source": [
    "오차 역전파 역시 경사하강법으로 가중치를 업데이트 하므로 다음과 같이 표현할 수 있다.\n",
    "\n",
    "$$W(t+1) = W(t) - \\dfrac{\\partial E}{\\partial W}$$\n",
    "\n",
    "- $W(t+1)$: 새 가중치\n",
    "\n",
    "\n",
    "- $W(t)$: 현 가중치\n",
    "\n",
    "\n",
    "- $E$: 오차\n",
    "\n",
    "여기서, 실제로 구해야하는 값은 가중치로 오차를 미분한 값인 $\\dfrac{\\partial E}{\\partial W}$이다.\n",
    "\n",
    "(그동안 배운 경사하강법과 달리 학습률이 없는데 아마 생략된게 아닐까 싶다.)"
   ]
  },
  {
   "cell_type": "markdown",
   "id": "a6714d7d",
   "metadata": {},
   "source": [
    "계산전에 먼저 기본 Notation은 다음 그림을 따르도록 한다.\n",
    "\n",
    "다만 밑에 나올 공식들의 Notation은 개인적으로 이해하기 좋게 기입하였다.\n",
    "\n",
    "참고로 아래 내용들은 심화 내용이므로 넘어가도 무방하다.\n",
    "\n",
    "![](https://thebook.io/img/080228/326.jpg)\n",
    "\n",
    "출처: <https://thebook.io/080228/part06/01/01/>"
   ]
  },
  {
   "cell_type": "markdown",
   "id": "4b8a0a3e",
   "metadata": {},
   "source": [
    "### 8.1.1 오차 공식"
   ]
  },
  {
   "cell_type": "markdown",
   "id": "94a0da5a",
   "metadata": {},
   "source": [
    "오차 $E$는 각 출력 값의 오차를 더한 값이며, 현재는 출력 값이 2개이므로 다음과 같이 표현 가능하다.\n",
    "\n",
    "$$E = E_{1} + E_{2} = \\dfrac{1}{2}(y_{t1} - y_{o1})^2 + \\dfrac{1}{2}(y_{t2} - y_{o2})^2$$\n",
    "\n",
    "- $y_{t1}, y_{t2}$: 실제 값\n",
    "\n",
    "\n",
    "- $y_{o1}, y_{o2}$: 가중치를 업데이트 하면서 바뀌게 되는 출력 값(편의상 관측값이라 하겠다.)\n",
    "\n",
    "\n",
    "- 각 오차는 평균 제곱 오차를 이용해 구하였다."
   ]
  },
  {
   "cell_type": "markdown",
   "id": "e7da4a6f",
   "metadata": {},
   "source": [
    "### 8.1.2 출력층 가중치"
   ]
  },
  {
   "cell_type": "markdown",
   "id": "55958ac2",
   "metadata": {},
   "source": [
    "우선 출력층으로 전달될 때 사용하는 가중치 중 $w_{31}$로 오차 $E$를 편미분 해보자.\n",
    "\n",
    "체인 룰에 따라 다음과 같이 계산 가능하다.\n",
    "\n",
    "$$\\dfrac{\\partial E}{\\partial w_{31}} = \\dfrac{\\partial E}{\\partial y_{o1}} \\cdot \\dfrac{\\partial y_{o1}}{\\partial n_{3}} \\cdot \\dfrac{\\partial n_{3}}{\\partial w_{31}} = (1) \\cdot (2) \\cdot (3)$$"
   ]
  },
  {
   "cell_type": "markdown",
   "id": "51e00056",
   "metadata": {},
   "source": [
    "편미분이므로 식 (1)은 간단하게 다음과 같이 구할 수 있다.\n",
    "\n",
    "$$\\dfrac{\\partial E}{\\partial y_{o1}} = (y_{o1} - y_{t1})$$"
   ]
  },
  {
   "cell_type": "markdown",
   "id": "23ee4ce9",
   "metadata": {},
   "source": [
    "식 (2)를 구하기 전에 $y_{o1} = \\sigma (n_3)$ 임을 기억하자.\n",
    "\n",
    "즉, $y_{o1}$은 활성화 함수($\\sigma$)에 $n_{3}$를 넣었을 때의 값이므로 식(2)는 활성화 함수의 미분이다.\n",
    "\n",
    "활성화 함수를 시그모이드 함수라고 하자.\n",
    "\n",
    "$$\\sigma (x) = \\dfrac{1}{1 + e^{-x}}$$\n",
    "\n",
    "시그모이드 함수의 미분 결과는 다음과 같다.\n",
    "\n",
    "$$\\dfrac{\\partial \\sigma (x)}{\\partial x} = \\sigma (x)(1 - \\sigma (x))$$\n",
    "\n",
    "따라서, 식 (2)는 다음과 같다.\n",
    "\n",
    "$$\\dfrac{\\partial y_{o1}}{\\partial n_{3}} = \\sigma (n_{3}) (1 - \\sigma (n_{3})) = y_{o1} (1 - y_{o1})$$"
   ]
  },
  {
   "cell_type": "markdown",
   "id": "2a1f2391",
   "metadata": {},
   "source": [
    "식 (3)을 구하기 전에 $n_{3} = w_{31}y_{h1} + w_{32}y_{h2} + 1$ 임을 기억하자.\n",
    "\n",
    "여기서, 신경망에서는 바이어스를 항상 1로 설정한다.\n",
    "\n",
    "바이어스는 그래프를 좌우로 움직이는 역할을 하는데, 활성화 함수인 시그모이드 함수가 가장 안정된 예측을 하는 바이어스가 1이기 때문이다.\n",
    "\n",
    "식 (3)은 간단하게 다음과 같이 계산된다.\n",
    "\n",
    "$$\\dfrac{\\partial n_{3}}{\\partial w_{31}} =  y_{h1}$$"
   ]
  },
  {
   "cell_type": "markdown",
   "id": "7d290905",
   "metadata": {},
   "source": [
    "이를 종합하면 다음과 같다.\n",
    "\n",
    "$$\\dfrac{\\partial E}{\\partial w_{31}} = (y_{o1} - y_{t1}) y_{o1} (1 - y_{o1}) y_{h1}$$\n",
    "\n",
    "여기서, $(y_{o1} - y_{t1}) y_{o1} (1 - y_{o1})$를 $\\delta y_{o1}$이라 하면 다음과 같이 표현 가능하다.\n",
    "\n",
    "$$\\dfrac{\\partial E}{\\partial w_{31}} = \\delta y_{o1} y_{h1}$$\n",
    "\n",
    "이를 이용하면 가중치의 업데이트는 다음과 같은 식으로 구할 수 있다.\n",
    "\n",
    "$$w_{31}(t+1) = w_{31}(t) - \\delta y_{o1} y_{h1}$$"
   ]
  },
  {
   "cell_type": "markdown",
   "id": "c5113d17",
   "metadata": {},
   "source": [
    "### 8.1.3 은닉층 가중치"
   ]
  },
  {
   "cell_type": "markdown",
   "id": "ed9739d0",
   "metadata": {},
   "source": [
    "은닉층으로 전달될 때 사용하는 가중치 중 $w_{11}$로 오차 $E$를 편미분 해보자.\n",
    "\n",
    "체인 룰에 따라 다음과 같이 계산 가능하다.\n",
    "\n",
    "$$\\dfrac{\\partial E}{\\partial w_{11}} = \\dfrac{\\partial E}{\\partial y_{h1}} \\cdot \\dfrac{\\partial y_{h1}}{\\partial n_{1}} \\cdot \\dfrac{\\partial n_{1}}{\\partial w_{11}} = (4) \\cdot (5) \\cdot (6)$$"
   ]
  },
  {
   "cell_type": "markdown",
   "id": "4f8d6608",
   "metadata": {},
   "source": [
    "식 (5)와 (6)는 앞서 (2)와 (3)을 구하는 과정과 동일하다.\n",
    "\n",
    "$$\\dfrac{\\partial y_{h1}}{\\partial n_{1}} = \\sigma (n_{1}) (1 - \\sigma (n_{1})) = y_{h1} (1 - y_{h1})$$\n",
    "\n",
    "$$\\dfrac{\\partial n_{1}}{\\partial w_{11}} =  x_{1}$$"
   ]
  },
  {
   "cell_type": "markdown",
   "id": "3a100215",
   "metadata": {},
   "source": [
    "식 (4)는 출력층 가중치에서와 달리 $y_{h1}$이 $E_{1}, E_{2}$ 모두와 관련있어 복잡하다.\n",
    "\n",
    "다음과 같이 분해 해보자.\n",
    "\n",
    "$$\\dfrac{\\partial E}{\\partial y_{h1}} = \\dfrac{\\partial (E_{1} + E_{2})}{\\partial y_{h1}} = \\dfrac{\\partial E_{1}}{\\partial y_{h1}} + \\dfrac{\\partial E_{2}}{\\partial y_{h1}} = (7) + (8)$$"
   ]
  },
  {
   "cell_type": "markdown",
   "id": "80b826dd",
   "metadata": {},
   "source": [
    "식 (7)은 다시 다음과 같이 분해 가능하다.\n",
    "\n",
    "$$\\dfrac{\\partial E_{1}}{\\partial y_{h1}} = \\dfrac{\\partial E_{1}}{\\partial y_{o1}} \\cdot \\dfrac{\\partial y_{o1}}{\\partial n_{3}} \\cdot \\dfrac{\\partial n_{3}}{\\partial y_{h1}} = (9) \\cdot (10) \\cdot (11)$$\n",
    "\n",
    "식 (9), (10)은 앞서 (1), (2)를 구하는 과정과 동일하며, 식 (11)은 (3)의 역수이다.\n",
    "\n",
    "따라서 다음과 같이 표현 가능하다.\n",
    "\n",
    "$$\\dfrac{\\partial E_{1}}{\\partial y_{h1}} = (y_{o1} - y_{t1}) y_{o1} (1 - y_{o1}) w_{31} = \\delta y_{o1} w_{31}$$"
   ]
  },
  {
   "cell_type": "markdown",
   "id": "cb9e0345",
   "metadata": {},
   "source": [
    "식 (8) 역시 같은 과정으로 계산하면 다음과 같다.\n",
    "\n",
    "$$\\dfrac{\\partial E_{2}}{\\partial y_{h1}} = (y_{o2} - y_{t2}) y_{o2} (1 - y_{o2}) w_{41} = \\delta y_{o2} w_{41}$$"
   ]
  },
  {
   "cell_type": "markdown",
   "id": "7ebc3190",
   "metadata": {},
   "source": [
    "종합하면 최종 결과는 다음과 같다.\n",
    "\n",
    "$$\\dfrac{\\partial E}{\\partial w_{11}} = (\\delta y_{o1} w_{31} + \\delta y_{o2} w_{41}) y_{h1} (1 - y_{h1}) x_{1}$$\n",
    "\n",
    "여기서, $(\\delta y_{o1} w_{31} + \\delta y_{o2} w_{41}) y_{h1} (1 - y_{h1})$를 $\\delta h_{1}$이라 하면 다음과 같이 표현 가능하다.\n",
    "\n",
    "$$\\dfrac{\\partial E}{\\partial w_{11}} = \\delta h_{1} x_{1}$$\n",
    "\n",
    "이를 이용하면 가중치의 업데이트는 다음과 같은 식으로 구할 수 있다.\n",
    "\n",
    "$$w_{11}(t+1) = w_{11}(t) - \\delta h_{1} x_{1}$$"
   ]
  },
  {
   "cell_type": "markdown",
   "id": "248ad7f2",
   "metadata": {},
   "source": [
    "### 8.1.4 델타식"
   ]
  },
  {
   "cell_type": "markdown",
   "id": "9b33e3ba",
   "metadata": {},
   "source": [
    "앞서 살펴본 과정을 정리해보자.\n",
    "\n",
    "- 출력층 오차 미분 업데이트: $(y_{o1} - y_{t1}) y_{o1} (1 - y_{o1}) y_{h1} = \\delta y_{o1} y_{h1}$\n",
    "\n",
    "\n",
    "- 은닉층 오차 미분 업데이트: $(\\delta y_{o1} w_{31} + \\delta y_{o2} w_{41}) y_{h1} (1 - y_{h1}) x_{1} = \\delta h_{1} x_{1}$\n",
    "\n",
    "각 델타식은 모두 오차 $\\cdot$ 관측값 $\\cdot$ (1 - 관측값) 형태를 띄고 있다.\n",
    "\n",
    "은닉층의 경우 직관적인 오차 형태가 아니지만 형태가 복잡할 뿐 오차를 나타낸다.\n",
    "\n",
    "델타 식이 중요한 이유는 층을 거슬러 올라갈 때마다 같은 형태가 나오기 때문이다.\n",
    "\n",
    "이를 알고 있으면 코딩으로 설계하기에도 용이할 것이다."
   ]
  },
  {
   "cell_type": "markdown",
   "id": "fbf9d8de",
   "metadata": {},
   "source": [
    "## 8.2 오차 역전파 구현"
   ]
  },
  {
   "cell_type": "markdown",
   "id": "e367dc2a",
   "metadata": {},
   "source": [
    "오차 역전파를 이용해 XOR 문제를 해결할 가중치를 구해보자.\n",
    "\n",
    "아래는 심화학습이므로 넘어가도 무방하다.\n",
    "\n",
    "코드를 하나하나 뜯어보다가 모멘텀 SGD 등 아직 모르는 개념 때문에 소스코드를 그냥 실행만 해보았다.\n",
    "\n",
    "코드에선 활성화 함수를 달리 사용하고 학습률도 적용해준다."
   ]
  },
  {
   "cell_type": "markdown",
   "id": "c31364ab",
   "metadata": {},
   "source": [
    "![](https://thebook.io/img/080228/119.jpg)\n",
    "\n",
    "출처: <https://thebook.io/080228/part03/ch08/02/>"
   ]
  },
  {
   "cell_type": "code",
   "execution_count": 3,
   "id": "d232a3f3",
   "metadata": {},
   "outputs": [
    {
     "name": "stdout",
     "output_type": "stream",
     "text": [
      "error: 0.66537\n",
      "error: 0.00263\n",
      "error: 0.00088\n",
      "error: 0.00051\n",
      "error: 0.00036\n",
      "error: 0.00027\n",
      "error: 0.00022\n",
      "error: 0.00018\n",
      "error: 0.00016\n",
      "error: 0.00014\n",
      "Input: [0, 0], Predict: [0.0006183430577843577]\n",
      "Input: [0, 1], Predict: [0.9889696478602484]\n",
      "Input: [1, 0], Predict: [0.9889970505963889]\n",
      "Input: [1, 1], Predict: [0.0021449252379778148]\n"
     ]
    }
   ],
   "source": [
    "# -*- coding: utf-8 -*-\n",
    "\n",
    "import random\n",
    "import numpy as np\n",
    "\n",
    "random.seed(777)\n",
    "\n",
    "# 환경 변수 지정\n",
    "\n",
    "# 입력값 및 타겟값\n",
    "data = [\n",
    "    [[0, 0], [0]],\n",
    "    [[0, 1], [1]],\n",
    "    [[1, 0], [1]],\n",
    "    [[1, 1], [0]]\n",
    "]\n",
    "\n",
    "# 실행 횟수(iterations), 학습률(lr), 모멘텀 계수(mo) 설정\n",
    "iterations=5000\n",
    "lr=0.1\n",
    "mo=0.4\n",
    "\n",
    "# 활성화 함수 - 1. 시그모이드\n",
    "# 미분할 때와 아닐 때의 각각의 값\n",
    "def sigmoid(x, derivative=False):\n",
    "    if (derivative == True):\n",
    "        return x * (1 - x)\n",
    "    return 1 / (1 + np.exp(-x))\n",
    "\n",
    "# 활성화 함수 - 2. tanh\n",
    "# tanh 함수의 미분은 1 - (활성화 함수 출력의 제곱)\n",
    "def tanh(x, derivative=False):\n",
    "    if (derivative == True):\n",
    "        return 1 - x ** 2\n",
    "    return np.tanh(x)\n",
    "\n",
    "# 가중치 배열 만드는 함수\n",
    "def makeMatrix(i, j, fill=0.0):\n",
    "    mat = []\n",
    "    for i in range(i):\n",
    "        mat.append([fill] * j)\n",
    "    return mat\n",
    "\n",
    "# 신경망의 실행\n",
    "class NeuralNetwork:\n",
    "\n",
    "    # 초깃값의 지정\n",
    "    def __init__(self, num_x, num_yh, num_yo, bias=1):\n",
    "\n",
    "        # 입력값(num_x), 은닉층 초깃값(num_yh), 출력층 초깃값(num_yo), 바이어스\n",
    "        self.num_x = num_x + bias  # 바이어스는 1로 지정(본문 참조)\n",
    "        self.num_yh = num_yh\n",
    "        self.num_yo = num_yo\n",
    "\n",
    "        # 활성화 함수 초깃값\n",
    "        self.activation_input = [1.0] * self.num_x\n",
    "        self.activation_hidden = [1.0] * self.num_yh\n",
    "        self.activation_out = [1.0] * self.num_yo\n",
    "\n",
    "        # 가중치 입력 초깃값\n",
    "        self.weight_in = makeMatrix(self.num_x, self.num_yh)\n",
    "        for i in range(self.num_x):\n",
    "            for j in range(self.num_yh):\n",
    "                self.weight_in[i][j] = random.random()\n",
    "\n",
    "        # 가중치 출력 초깃값\n",
    "        self.weight_out = makeMatrix(self.num_yh, self.num_yo)\n",
    "        for j in range(self.num_yh):\n",
    "            for k in range(self.num_yo):\n",
    "                self.weight_out[j][k] = random.random()\n",
    "\n",
    "        # 모멘텀 SGD를 위한 이전 가중치 초깃값\n",
    "        self.gradient_in = makeMatrix(self.num_x, self.num_yh)\n",
    "        self.gradient_out = makeMatrix(self.num_yh, self.num_yo)\n",
    "\n",
    "    # 업데이트 함수\n",
    "    def update(self, inputs):\n",
    "\n",
    "        # 입력 레이어의 활성화 함수\n",
    "        for i in range(self.num_x - 1):\n",
    "            self.activation_input[i] = inputs[i]\n",
    "\n",
    "        # 은닉층의 활성화 함수\n",
    "        for j in range(self.num_yh):\n",
    "            sum = 0.0\n",
    "            for i in range(self.num_x):\n",
    "                sum = sum + self.activation_input[i] * self.weight_in[i][j]\n",
    "            # 시그모이드와 tanh 중에서 활성화 함수 선택\n",
    "            self.activation_hidden[j] = tanh(sum, False)\n",
    "\n",
    "        # 출력층의 활성화 함수\n",
    "        for k in range(self.num_yo):\n",
    "            sum = 0.0\n",
    "            for j in range(self.num_yh):\n",
    "                sum = sum + self.activation_hidden[j] * self.weight_out[j][k]\n",
    "            # 시그모이드와 tanh 중에서 활성화 함수 선택\n",
    "            self.activation_out[k] = tanh(sum, False)\n",
    "\n",
    "        return self.activation_out[:]\n",
    "    \n",
    "    # 역전파의 실행\n",
    "    def backPropagate(self, targets):\n",
    "\n",
    "        # 델타 출력 계산\n",
    "        output_deltas = [0.0] * self.num_yo\n",
    "        for k in range(self.num_yo):\n",
    "            error = targets[k] - self.activation_out[k]\n",
    "            # 시그모이드와 tanh 중에서 활성화 함수 선택, 미분 적용\n",
    "            output_deltas[k] = tanh(self.activation_out[k], True) * error\n",
    "\n",
    "        # 은닉 노드의 오차 함수\n",
    "        hidden_deltas = [0.0] * self.num_yh\n",
    "        for j in range(self.num_yh):\n",
    "            error = 0.0\n",
    "            for k in range(self.num_yo):\n",
    "                error = error + output_deltas[k] * self.weight_out[j][k]\n",
    "                # 시그모이드와 tanh 중에서 활성화 함수 선택, 미분 적용\n",
    "            hidden_deltas[j] = tanh(self.activation_hidden[j], True) * error\n",
    "\n",
    "        # 출력 가중치 업데이트\n",
    "        for j in range(self.num_yh):\n",
    "            for k in range(self.num_yo):\n",
    "                gradient = output_deltas[k] * self.activation_hidden[j]\n",
    "                v = mo * self.gradient_out[j][k] - lr * gradient\n",
    "                self.weight_out[j][k] += v\n",
    "                self.gradient_out[j][k] = gradient\n",
    "\n",
    "        # 입력 가중치 업데이트\n",
    "        for i in range(self.num_x):\n",
    "            for j in range(self.num_yh):\n",
    "                gradient = hidden_deltas[j] * self.activation_input[i]\n",
    "                v = mo*self.gradient_in[i][j] - lr * gradient\n",
    "                self.weight_in[i][j] += v\n",
    "                self.gradient_in[i][j] = gradient\n",
    "\n",
    "        # 오차의 계산(최소 제곱법)\n",
    "        error = 0.0\n",
    "        for k in range(len(targets)):\n",
    "            error = error + 0.5 * (targets[k] - self.activation_out[k]) ** 2\n",
    "        return error\n",
    "\n",
    "    # 학습 실행\n",
    "    def train(self, patterns):\n",
    "        for i in range(iterations):\n",
    "            error = 0.0\n",
    "            for p in patterns:\n",
    "                inputs = p[0]\n",
    "                targets = p[1]\n",
    "                self.update(inputs)\n",
    "                error = error + self.backPropagate(targets)\n",
    "            if i % 500 == 0:\n",
    "                print('error: %-.5f' % error)\n",
    "    # 결괏값 출력\n",
    "    def result(self, patterns):\n",
    "        for p in patterns:\n",
    "            print('Input: %s, Predict: %s' % (p[0], self.update(p[0])))\n",
    "\n",
    "if __name__ == '__main__':\n",
    "\n",
    "    # 두 개의 입력 값, 두 개의 레이어, 하나의 출력 값을 갖도록 설정\n",
    "    n = NeuralNetwork(2, 2, 1)\n",
    "\n",
    "    # 학습 실행\n",
    "    n.train(data)\n",
    "\n",
    "    # 결괏값 출력\n",
    "    n.result(data)\n",
    "\n",
    "\n",
    "# Reference: http://arctrix.com/nas/python/bpnn.py (Neil Schemenauer)\n",
    "\n"
   ]
  },
  {
   "cell_type": "markdown",
   "id": "de7fe350",
   "metadata": {},
   "source": [
    "- 결과를 보면 예측 값이 실제 값과 유사하여 XOR 게이트를 만드는 가중치를 잘 찾았다."
   ]
  }
 ],
 "metadata": {
  "kernelspec": {
   "display_name": "Python 3 (ipykernel)",
   "language": "python",
   "name": "python3"
  },
  "language_info": {
   "codemirror_mode": {
    "name": "ipython",
    "version": 3
   },
   "file_extension": ".py",
   "mimetype": "text/x-python",
   "name": "python",
   "nbconvert_exporter": "python",
   "pygments_lexer": "ipython3",
   "version": "3.7.10"
  },
  "toc": {
   "base_numbering": 1,
   "nav_menu": {},
   "number_sections": false,
   "sideBar": true,
   "skip_h1_title": false,
   "title_cell": "Table of Contents",
   "title_sidebar": "Contents",
   "toc_cell": false,
   "toc_position": {
    "height": "calc(100% - 180px)",
    "left": "10px",
    "top": "150px",
    "width": "310.417px"
   },
   "toc_section_display": true,
   "toc_window_display": true
  }
 },
 "nbformat": 4,
 "nbformat_minor": 5
}
