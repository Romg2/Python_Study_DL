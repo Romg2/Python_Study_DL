{
 "cells": [
  {
   "cell_type": "markdown",
   "metadata": {},
   "source": [
    "**기본 세팅**"
   ]
  },
  {
   "cell_type": "code",
   "execution_count": 10,
   "metadata": {},
   "outputs": [],
   "source": [
    "import numpy as np\n",
    "import pandas as pd\n",
    "\n",
    "import matplotlib as mpl\n",
    "import matplotlib.pyplot as plt\n",
    "import seaborn as sns\n",
    "\n",
    "import warnings"
   ]
  },
  {
   "cell_type": "code",
   "execution_count": 11,
   "metadata": {},
   "outputs": [],
   "source": [
    "%matplotlib inline\n",
    "%config InlineBackend.figure_format = 'retina'\n",
    "\n",
    "mpl.rc('font', family='NanumGothic') # 폰트 설정\n",
    "mpl.rc('axes', unicode_minus=False) # 유니코드에서 음수 부호 설정\n",
    "\n",
    "# 차트 스타일 설정\n",
    "sns.set(font=\"NanumGothic\", rc={\"axes.unicode_minus\":False}, style='darkgrid')\n",
    "plt.rc(\"figure\", figsize=(10,8))\n",
    "\n",
    "warnings.filterwarnings(\"ignore\")"
   ]
  },
  {
   "cell_type": "markdown",
   "metadata": {},
   "source": [
    "---"
   ]
  },
  {
   "cell_type": "markdown",
   "metadata": {},
   "source": [
    "# 4 경사하강법"
   ]
  },
  {
   "cell_type": "markdown",
   "metadata": {},
   "source": [
    "경사하강법에 대해선 **머신러닝 완벽가이드**에서 공부하였다.\n",
    "\n",
    "[경사하강법 포스팅](https://romg2.github.io/mlguide/07_%EB%A8%B8%EC%8B%A0%EB%9F%AC%EB%8B%9D-%EC%99%84%EB%B2%BD%EA%B0%80%EC%9D%B4%EB%93%9C-05.-%ED%9A%8C%EA%B7%80-%EA%B2%BD%EC%82%AC%ED%95%98%EA%B0%95%EB%B2%95/)에서 자세한 설명을 적어두었으니 참고하자.\n",
    "\n",
    "여기선 새로운 교재니 복습겸 코드만 실습해보고 설명은 따로 적지 않으려고 한다."
   ]
  },
  {
   "cell_type": "markdown",
   "metadata": {},
   "source": [
    "## 4.1 단순 선형 회귀"
   ]
  },
  {
   "cell_type": "code",
   "execution_count": 26,
   "metadata": {},
   "outputs": [
    {
     "name": "stdout",
     "output_type": "stream",
     "text": [
      "epoch=0, 기울기=27.84, 절편=5.43\n",
      "epoch=200, 기울기=4.10, 절편=68.28\n",
      "epoch=400, 기울기=2.55, 절편=77.48\n",
      "epoch=600, 기울기=2.34, 절편=78.79\n",
      "epoch=800, 기울기=2.31, 절편=78.97\n",
      "epoch=1000, 기울기=2.30, 절편=79.00\n",
      "epoch=1200, 기울기=2.30, 절편=79.00\n",
      "epoch=1400, 기울기=2.30, 절편=79.00\n",
      "epoch=1600, 기울기=2.30, 절편=79.00\n",
      "epoch=1800, 기울기=2.30, 절편=79.00\n",
      "epoch=2000, 기울기=2.30, 절편=79.00\n"
     ]
    }
   ],
   "source": [
    "# X: 공부시간, Y: 성적\n",
    "x_data = np.array([2,4,6,8])\n",
    "y_data = np.array([81,93,91,97])\n",
    "\n",
    "# 기울기, 절편 초기화\n",
    "beta_1 = 0\n",
    "beta_0 = 0\n",
    "\n",
    "# 학습률 설정\n",
    "learning_rate = 0.03\n",
    "\n",
    "# 반복 수 설정\n",
    "epochs = 2001\n",
    "\n",
    "# 단순 선형 회귀 경사하강법\n",
    "for i in range(epochs):\n",
    "    y_pred = beta_1 * x_data + beta_0\n",
    "    error = y_data - y_pred\n",
    "    \n",
    "    # 베타1 미분 값\n",
    "    beta_1_diff = -(2/len(x_data)) * sum(x_data * (error))\n",
    "    \n",
    "    # 베타0 미분 값\n",
    "    beta_0_diff = -(2/len(x_data)) * sum(error)\n",
    "    \n",
    "    # 베타1,0 업데이트\n",
    "    beta_1 = beta_1 - learning_rate * beta_1_diff\n",
    "    beta_0 = beta_0 - learning_rate * beta_0_diff\n",
    "    \n",
    "    if i % 200 == 0:\n",
    "        print(f\"epoch={i}, 기울기={beta_1:.2f}, 절편={beta_0:.2f}\")"
   ]
  },
  {
   "cell_type": "markdown",
   "metadata": {},
   "source": [
    "## 4.2 다중 선형 회귀"
   ]
  },
  {
   "cell_type": "code",
   "execution_count": 38,
   "metadata": {},
   "outputs": [
    {
     "name": "stdout",
     "output_type": "stream",
     "text": [
      "epoch=0, 기울기1=18.56, 기울기2=8.45, 절편=79.00\n",
      "epoch=200, 기울기1=4.57, 기울기2=3.35, 절편=79.00\n",
      "epoch=400, 기울기1=2.36, 기울기2=2.58, 절편=79.00\n",
      "epoch=600, 기울기1=1.74, 기울기2=2.37, 절편=79.00\n",
      "epoch=800, 기울기1=1.57, 기울기2=2.31, 절편=79.00\n",
      "epoch=1000, 기울기1=1.52, 기울기2=2.29, 절편=79.00\n",
      "epoch=1200, 기울기1=1.51, 기울기2=2.29, 절편=79.00\n",
      "epoch=1400, 기울기1=1.50, 기울기2=2.29, 절편=79.00\n",
      "epoch=1600, 기울기1=1.50, 기울기2=2.29, 절편=79.00\n",
      "epoch=1800, 기울기1=1.50, 기울기2=2.29, 절편=79.00\n",
      "epoch=2000, 기울기1=1.50, 기울기2=2.29, 절편=79.00\n"
     ]
    }
   ],
   "source": [
    "from mpl_toolkits import mplot3d\n",
    "\n",
    "# X1: 공부시간, X2: 과외수업횟수, Y: 성적\n",
    "x1 = np.array([2,4,6,8])\n",
    "x2 = np.array([0,4,2,3])\n",
    "y = np.array([81,93,91,97])\n",
    "\n",
    "# 파라미터 초기화\n",
    "a1 = 0\n",
    "a2 = 0\n",
    "b = 0 \n",
    "\n",
    "# 학습률 설정\n",
    "learning_rate = 0.02\n",
    "\n",
    "# 반복 수 설정\n",
    "epochs = 2001\n",
    "\n",
    "# 다중 선형 회귀 경사하강법\n",
    "for i in range(epochs):\n",
    "    y_pred = a1*x1 + a2*x2 + b\n",
    "    error = y_data - y_pred\n",
    "    \n",
    "    # a1 미분 값\n",
    "    a1_diff = -(2/len(x1)) * sum(x1 * (error))\n",
    "    \n",
    "    # a2 미분 값\n",
    "    a2_diff = -(2/len(x2)) * sum(x2 * (error))\n",
    "    \n",
    "    # b 미분 값\n",
    "    b_diff = -(2/len(x2)) * sum(error)\n",
    "    \n",
    "    # 파라미터 업데이트\n",
    "    a1 = a1 - learning_rate * a1_diff\n",
    "    a2 = a2 - learning_rate * a2_diff\n",
    "    b = b - learning_rate * b_diff\n",
    "    \n",
    "    if i % 200 == 0:\n",
    "        print(f\"epoch={i}, 기울기1={a1:.2f}, 기울기2={a2:.2f}, 절편={beta_0:.2f}\")"
   ]
  }
 ],
 "metadata": {
  "colab": {
   "collapsed_sections": [],
   "name": "01. 나의 첫 딥러닝.ipynb",
   "provenance": [],
   "toc_visible": true
  },
  "kernelspec": {
   "display_name": "Python 3 (ipykernel)",
   "language": "python",
   "name": "python3"
  },
  "language_info": {
   "codemirror_mode": {
    "name": "ipython",
    "version": 3
   },
   "file_extension": ".py",
   "mimetype": "text/x-python",
   "name": "python",
   "nbconvert_exporter": "python",
   "pygments_lexer": "ipython3",
   "version": "3.7.10"
  },
  "toc": {
   "base_numbering": 1,
   "nav_menu": {},
   "number_sections": false,
   "sideBar": true,
   "skip_h1_title": false,
   "title_cell": "Table of Contents",
   "title_sidebar": "Contents",
   "toc_cell": false,
   "toc_position": {},
   "toc_section_display": true,
   "toc_window_display": true
  }
 },
 "nbformat": 4,
 "nbformat_minor": 1
}
